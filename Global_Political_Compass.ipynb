{
  "nbformat": 4,
  "nbformat_minor": 0,
  "metadata": {
    "colab": {
      "name": "Global Political Compass",
      "provenance": [],
      "collapsed_sections": [],
      "authorship_tag": "ABX9TyNcA2+UVOYlwY7kG35g/JS8",
      "include_colab_link": true
    },
    "kernelspec": {
      "name": "python3",
      "display_name": "Python 3"
    }
  },
  "cells": [
    {
      "cell_type": "markdown",
      "metadata": {
        "id": "view-in-github",
        "colab_type": "text"
      },
      "source": [
        "<a href=\"https://colab.research.google.com/github/aidanandrucyk/GlobalPoliticalCompass/blob/master/Global_Political_Compass.ipynb\" target=\"_parent\"><img src=\"https://colab.research.google.com/assets/colab-badge.svg\" alt=\"Open In Colab\"/></a>"
      ]
    },
    {
      "cell_type": "code",
      "metadata": {
        "id": "tA2ScVsX4FdE",
        "colab_type": "code",
        "colab": {}
      },
      "source": [
        "# import libraries\n",
        "import pandas as pd\n",
        "import numpy as np\n",
        "import matplotlib.pyplot as plt\n",
        "import bokeh as bok"
      ],
      "execution_count": 0,
      "outputs": []
    },
    {
      "cell_type": "markdown",
      "metadata": {
        "id": "Gh9UMkia49mw",
        "colab_type": "text"
      },
      "source": [
        "*begin program*"
      ]
    },
    {
      "cell_type": "code",
      "metadata": {
        "id": "fTD3NT1i4TAr",
        "colab_type": "code",
        "outputId": "624a0efc-83e8-4c5f-8300-7e01fe01b168",
        "colab": {
          "base_uri": "https://localhost:8080/",
          "height": 71
        }
      },
      "source": [
        "# fake data test\n",
        "from numpy.random import randn\n",
        "np.random.randn(3,4)"
      ],
      "execution_count": 0,
      "outputs": [
        {
          "output_type": "execute_result",
          "data": {
            "text/plain": [
              "array([[-1.70783729, -1.0230258 , -0.31687134, -1.05515022],\n",
              "       [-0.08120036,  0.87070407, -0.90325242, -0.99990786],\n",
              "       [ 1.19884784, -0.31284901,  0.59755876, -0.16880048]])"
            ]
          },
          "metadata": {
            "tags": []
          },
          "execution_count": 3
        }
      ]
    }
  ]
}